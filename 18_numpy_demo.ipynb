{
 "cells": [
  {
   "cell_type": "code",
   "execution_count": 1,
   "id": "be28904d",
   "metadata": {},
   "outputs": [],
   "source": [
    "#Numpy :- import numpy liabrary\n",
    "import numpy as np"
   ]
  },
  {
   "cell_type": "code",
   "execution_count": 2,
   "id": "18ed3354",
   "metadata": {},
   "outputs": [
    {
     "name": "stdout",
     "output_type": "stream",
     "text": [
      " one dimensional array :\n",
      "[1 2 3 4 5 6]\n",
      " two dimensional array :\n",
      "[[1 2 3]\n",
      " [4 5 6]]\n"
     ]
    }
   ],
   "source": [
    "#array:-\n",
    "#one Dimensional\n",
    "b=np.array([1,2,3,4,5,6])\n",
    "#two Dimensional\n",
    "a=np.array([[1,2,3],[4,5,6]])\n",
    "print(\" one dimensional array :\")\n",
    "print(b)\n",
    "print(\" two dimensional array :\")\n",
    "print(a)\n"
   ]
  },
  {
   "cell_type": "code",
   "execution_count": 3,
   "id": "1ac148b2",
   "metadata": {},
   "outputs": [
    {
     "name": "stdout",
     "output_type": "stream",
     "text": [
      "shape of a (2, 3)\n"
     ]
    }
   ],
   "source": [
    "#format :-the standard binary file format\n",
    "#Shape :- the number of elements in each dimension\n",
    "a=np.array([[1,2,3],[4,5,6]])\n",
    "print(\"shape of a {}\".format(a.shape))\n"
   ]
  },
  {
   "cell_type": "code",
   "execution_count": 4,
   "id": "bde30b1a",
   "metadata": {},
   "outputs": [
    {
     "name": "stdout",
     "output_type": "stream",
     "text": [
      "ndim 2\n"
     ]
    }
   ],
   "source": [
    "#ndim :- represents the number of dimensions of the array\n",
    "a=np.array([[1,2,3],[4,5,6]])\n",
    "print(\"ndim {}\".format(a.ndim))"
   ]
  },
  {
   "cell_type": "code",
   "execution_count": 5,
   "id": "944661eb",
   "metadata": {},
   "outputs": [
    {
     "name": "stdout",
     "output_type": "stream",
     "text": [
      "size 6\n"
     ]
    }
   ],
   "source": [
    "#size:-calculate the total elements or values  in the given array\n",
    "a=np.array([[1,2,3],[4,5,6]])\n",
    "print(\"size {}\".format(a.size))"
   ]
  },
  {
   "cell_type": "code",
   "execution_count": 6,
   "id": "5fca03e1",
   "metadata": {},
   "outputs": [
    {
     "name": "stdout",
     "output_type": "stream",
     "text": [
      "dtype int64\n"
     ]
    }
   ],
   "source": [
    "#dtype:-describes the fixed-size block of memory\n",
    "a=np.array([[1,2,3],[4,5,6]])\n",
    "print(\"dtype {}\".format(a.dtype))"
   ]
  },
  {
   "cell_type": "code",
   "execution_count": 7,
   "id": "cdead246",
   "metadata": {},
   "outputs": [
    {
     "name": "stdout",
     "output_type": "stream",
     "text": [
      "itemsize 8\n"
     ]
    }
   ],
   "source": [
    "#itemsize :- returns the size (in bytes) of each element of a NumPy array\n",
    "a=np.array([[1,2,3],[4,5,6]])\n",
    "print(\"itemsize {}\".format(a.itemsize))"
   ]
  },
  {
   "cell_type": "code",
   "execution_count": 8,
   "id": "0c964a48",
   "metadata": {},
   "outputs": [
    {
     "name": "stdout",
     "output_type": "stream",
     "text": [
      "data <memory at 0x7fe248acc110>\n"
     ]
    }
   ],
   "source": [
    "#data :- \n",
    "a=np.array([[1,2,3],[4,5,6]])\n",
    "print(\"data {}\".format(a.data))"
   ]
  },
  {
   "cell_type": "code",
   "execution_count": 9,
   "id": "77e4dd6e",
   "metadata": {},
   "outputs": [
    {
     "name": "stdout",
     "output_type": "stream",
     "text": [
      "21\n"
     ]
    }
   ],
   "source": [
    "#sum :-returns the sum of array elements over the specified axis\n",
    "a=np.array([[1,2,3],[4,5,6]])\n",
    "print(a.sum())\n"
   ]
  },
  {
   "cell_type": "code",
   "execution_count": 11,
   "id": "52f83b65",
   "metadata": {},
   "outputs": [
    {
     "name": "stdout",
     "output_type": "stream",
     "text": [
      "multiplication :\n",
      "[[16 19]\n",
      " [26 31]]\n"
     ]
    }
   ],
   "source": [
    "#multiplication :- multiplication of two array\n",
    "A = [[1, 2], [2, 3]]\n",
    "B = [[4, 5], [6, 7]]\n",
    "mul=np.dot(A,B)\n",
    "print(\"multiplication :\")\n",
    "print(mul)"
   ]
  },
  {
   "cell_type": "code",
   "execution_count": 12,
   "id": "66e6afdf",
   "metadata": {},
   "outputs": [
    {
     "name": "stdout",
     "output_type": "stream",
     "text": [
      "addition :\n",
      "[[ 5  7]\n",
      " [ 8 10]]\n"
     ]
    }
   ],
   "source": [
    "#addition :-performs element-wise addition\n",
    "A = [[1, 2], [2, 3]]\n",
    "B = [[4, 5], [6, 7]]\n",
    "ad=np.add(A,B)\n",
    "print(\"addition :\")\n",
    "print(ad)"
   ]
  },
  {
   "cell_type": "code",
   "execution_count": 13,
   "id": "ee8f25b5",
   "metadata": {},
   "outputs": [
    {
     "name": "stdout",
     "output_type": "stream",
     "text": [
      "[[1 2 3]\n",
      " [4 5 6]]\n"
     ]
    }
   ],
   "source": [
    "#reshape :- changing the shape of an array\n",
    "a=np.array([1,2,3,4,5,6])\n",
    "re=a.reshape(2,3)\n",
    "print(re)"
   ]
  },
  {
   "cell_type": "code",
   "execution_count": 14,
   "id": "45400d58",
   "metadata": {},
   "outputs": [
    {
     "name": "stdout",
     "output_type": "stream",
     "text": [
      "maximum is  6\n"
     ]
    }
   ],
   "source": [
    "#maximum :- ind the element-wise maximum of array elements\n",
    "a=np.array([1,2,3,4,5,6])\n",
    "print(\"maximum is \",a.max())"
   ]
  },
  {
   "cell_type": "code",
   "execution_count": 15,
   "id": "27b4cd46",
   "metadata": {},
   "outputs": [
    {
     "name": "stdout",
     "output_type": "stream",
     "text": [
      "maximum is  [3 6]\n"
     ]
    }
   ],
   "source": [
    "#maximum along the axis\n",
    "re=np.array([[1,2,3],[4,5,6]])\n",
    "print(\"maximum is \",re.max(axis=1))"
   ]
  },
  {
   "cell_type": "code",
   "execution_count": 16,
   "id": "713d5f2a",
   "metadata": {},
   "outputs": [
    {
     "name": "stdout",
     "output_type": "stream",
     "text": [
      "minimum is  1\n"
     ]
    }
   ],
   "source": [
    "# minimum :-find the element-wise minimum of array elements\n",
    "a=np.array([1,2,3,4,5,6])\n",
    "print(\"minimum is \",a.min())"
   ]
  },
  {
   "cell_type": "code",
   "execution_count": 18,
   "id": "20ebbd8c",
   "metadata": {},
   "outputs": [
    {
     "name": "stdout",
     "output_type": "stream",
     "text": [
      "minimum is  [1 2 3]\n"
     ]
    }
   ],
   "source": [
    "#minimum along the axis\n",
    "re=np.array([[1,2,3],[4,5,6]])\n",
    "print(\"minimum is \",re.min(axis=0))"
   ]
  },
  {
   "cell_type": "code",
   "execution_count": 19,
   "id": "3f1f6896",
   "metadata": {},
   "outputs": [
    {
     "name": "stdout",
     "output_type": "stream",
     "text": [
      "[[1. 2. 3.]\n",
      " [4. 5. 6.]]\n"
     ]
    }
   ],
   "source": [
    "# square root:-calculate the positive square root of a number or the elements of an array\n",
    "re=np.array([[1,4,9],[16,25,36]])\n",
    "print(np.sqrt(re))"
   ]
  },
  {
   "cell_type": "code",
   "execution_count": 20,
   "id": "31b5cbe5",
   "metadata": {},
   "outputs": [
    {
     "name": "stdout",
     "output_type": "stream",
     "text": [
      "standard deviation  12.212243401148248\n"
     ]
    }
   ],
   "source": [
    "#standard deviation :-calculates the standard deviation of given data along a specified axis\n",
    "re=np.array([[1,4,9],[16,25,36]])\n",
    "print(\"standard deviation \",np.std(re))"
   ]
  },
  {
   "cell_type": "code",
   "execution_count": 22,
   "id": "47a0490f",
   "metadata": {},
   "outputs": [
    {
     "name": "stdout",
     "output_type": "stream",
     "text": [
      "vertical :\n",
      "[[1 2]\n",
      " [4 5]\n",
      " [8 7]\n",
      " [5 4]]\n"
     ]
    }
   ],
   "source": [
    "# merging :-merge two arrays\n",
    "# vstack :-Stack arrays in sequence vertically (row wise)\n",
    "a=np.array([[1,2],[4,5]])\n",
    "b=np.array([[8,7],[5,4]])\n",
    "v=np.vstack((a,b))\n",
    "print(\"vertical :\")\n",
    "print(v)"
   ]
  },
  {
   "cell_type": "code",
   "execution_count": 23,
   "id": "311e3577",
   "metadata": {},
   "outputs": [
    {
     "name": "stdout",
     "output_type": "stream",
     "text": [
      "horizontal :\n",
      "[[1 2 8 7]\n",
      " [4 5 5 4]]\n"
     ]
    }
   ],
   "source": [
    "#horizontal :- combines a sequence of arrays\n",
    "a=np.array([[1,2],[4,5]])\n",
    "b=np.array([[8,7],[5,4]])\n",
    "h=np.hstack((a,b))\n",
    "print(\"horizontal :\")\n",
    "print(h)"
   ]
  },
  {
   "cell_type": "code",
   "execution_count": 24,
   "id": "654fb5f3",
   "metadata": {},
   "outputs": [
    {
     "name": "stdout",
     "output_type": "stream",
     "text": [
      "[ 0  2  4  6  8 10 12 14 16 18]\n"
     ]
    }
   ],
   "source": [
    "#arange :- produces an array of sequential numbers within a given interval\n",
    "a=np.arange(0,20,2)\n",
    "print(a)"
   ]
  },
  {
   "cell_type": "code",
   "execution_count": 25,
   "id": "853df0d0",
   "metadata": {},
   "outputs": [
    {
     "name": "stdout",
     "output_type": "stream",
     "text": [
      "data type:  float64\n"
     ]
    }
   ],
   "source": [
    "a=np.arange(0,20,2,float)\n",
    "print(\"data type: \",a.dtype)"
   ]
  },
  {
   "cell_type": "code",
   "execution_count": 26,
   "id": "7869f570",
   "metadata": {},
   "outputs": [
    {
     "name": "stdout",
     "output_type": "stream",
     "text": [
      "[ 0.  2.  4.  6.  8. 10. 12. 14. 16. 18. 20.]\n",
      "data type:  float64\n"
     ]
    }
   ],
   "source": [
    "#linspace :-allows you to create evenly spaced arrays with a specified number of elements\n",
    "a=np.linspace(0,20,11)\n",
    "print(a)\n",
    "print(\"data type: \",a.dtype)"
   ]
  },
  {
   "cell_type": "code",
   "execution_count": 27,
   "id": "ae8533db",
   "metadata": {},
   "outputs": [
    {
     "name": "stdout",
     "output_type": "stream",
     "text": [
      "[[1 4]\n",
      " [2 5]\n",
      " [8 5]\n",
      " [7 4]]\n"
     ]
    }
   ],
   "source": [
    "#transpose :- moving the rows data to the column and columns data to the rows\n",
    "a=np.array([[1,2],[4,5]])\n",
    "b=np.array([[8,7],[5,4]])\n",
    "h=np.hstack((a,b))\n",
    "ht=h.T\n",
    "print(ht)"
   ]
  },
  {
   "cell_type": "code",
   "execution_count": 28,
   "id": "37097625",
   "metadata": {},
   "outputs": [
    {
     "name": "stdout",
     "output_type": "stream",
     "text": [
      "ele : 1\n",
      "ele : 2\n",
      "ele : 8\n",
      "ele : 7\n",
      "ele : 4\n",
      "ele : 5\n",
      "ele : 5\n",
      "ele : 4\n"
     ]
    }
   ],
   "source": [
    "#nditer :- provides many flexible ways to visit all the elements of one or more arrays in a systematic fashion\n",
    "for i in np.nditer(ht):\n",
    "    print(\"ele :\",i)"
   ]
  },
  {
   "cell_type": "code",
   "execution_count": 29,
   "id": "5acb9610",
   "metadata": {},
   "outputs": [
    {
     "name": "stdout",
     "output_type": "stream",
     "text": [
      "[array([[1, 2],\n",
      "       [4, 5]]), array([[8, 7],\n",
      "       [5, 4]])]\n"
     ]
    }
   ],
   "source": [
    "#hsplit :- split an array into multiple sub-arrays horizontally (column-wise)\n",
    "a=np.array([[1,2],[4,5]])\n",
    "b=np.array([[8,7],[5,4]])\n",
    "h=np.hstack((a,b))\n",
    "h1=np.hsplit(h,2)\n",
    "print(h1)"
   ]
  },
  {
   "cell_type": "code",
   "execution_count": 30,
   "id": "cf6cc14f",
   "metadata": {},
   "outputs": [
    {
     "name": "stdout",
     "output_type": "stream",
     "text": [
      "[array([[1, 2, 8, 7]]), array([[4, 5, 5, 4]])]\n"
     ]
    }
   ],
   "source": [
    "#vsplit :- split an array into multiple sub-arrays vertically (row-wise)\n",
    "a=np.array([[1,2],[4,5]])\n",
    "b=np.array([[8,7],[5,4]])\n",
    "h=np.hstack((a,b))\n",
    "h1=np.vsplit(h,2)\n",
    "print(h1)"
   ]
  },
  {
   "cell_type": "code",
   "execution_count": null,
   "id": "db305583",
   "metadata": {},
   "outputs": [],
   "source": []
  }
 ],
 "metadata": {
  "kernelspec": {
   "display_name": "Python 3 (ipykernel)",
   "language": "python",
   "name": "python3"
  },
  "language_info": {
   "codemirror_mode": {
    "name": "ipython",
    "version": 3
   },
   "file_extension": ".py",
   "mimetype": "text/x-python",
   "name": "python",
   "nbconvert_exporter": "python",
   "pygments_lexer": "ipython3",
   "version": "3.9.12"
  }
 },
 "nbformat": 4,
 "nbformat_minor": 5
}
